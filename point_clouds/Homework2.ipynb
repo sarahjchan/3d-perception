{
 "cells": [
  {
   "cell_type": "code",
   "execution_count": 3,
   "metadata": {
    "id": "9_y5BmOggBrY"
   },
   "outputs": [
    {
     "name": "stdout",
     "output_type": "stream",
     "text": [
      "Requirement already satisfied: torch in c:\\users\\sarah\\anaconda3\\lib\\site-packages (2.6.0)\n",
      "Requirement already satisfied: torchvision in c:\\users\\sarah\\anaconda3\\lib\\site-packages (0.21.0)\n",
      "Requirement already satisfied: torchaudio in c:\\users\\sarah\\anaconda3\\lib\\site-packages (2.6.0)\n",
      "Requirement already satisfied: filelock in c:\\users\\sarah\\anaconda3\\lib\\site-packages (from torch) (3.13.1)\n",
      "Requirement already satisfied: typing-extensions>=4.10.0 in c:\\users\\sarah\\anaconda3\\lib\\site-packages (from torch) (4.11.0)\n",
      "Requirement already satisfied: networkx in c:\\users\\sarah\\anaconda3\\lib\\site-packages (from torch) (3.3)\n",
      "Requirement already satisfied: jinja2 in c:\\users\\sarah\\anaconda3\\lib\\site-packages (from torch) (3.1.4)\n",
      "Requirement already satisfied: fsspec in c:\\users\\sarah\\anaconda3\\lib\\site-packages (from torch) (2024.6.1)\n",
      "Requirement already satisfied: setuptools in c:\\users\\sarah\\anaconda3\\lib\\site-packages (from torch) (75.1.0)\n",
      "Requirement already satisfied: sympy==1.13.1 in c:\\users\\sarah\\anaconda3\\lib\\site-packages (from torch) (1.13.1)\n",
      "Requirement already satisfied: mpmath<1.4,>=1.1.0 in c:\\users\\sarah\\anaconda3\\lib\\site-packages (from sympy==1.13.1->torch) (1.3.0)\n",
      "Requirement already satisfied: numpy in c:\\users\\sarah\\anaconda3\\lib\\site-packages (from torchvision) (1.26.4)\n",
      "Requirement already satisfied: pillow!=8.3.*,>=5.3.0 in c:\\users\\sarah\\anaconda3\\lib\\site-packages (from torchvision) (10.4.0)\n",
      "Requirement already satisfied: MarkupSafe>=2.0 in c:\\users\\sarah\\anaconda3\\lib\\site-packages (from jinja2->torch) (2.1.3)\n",
      "C:\\Users\\sarah\\OneDrive\\Desktop\\rob599-3D_perception\\point_clouds\n",
      "['.ipynb_checkpoints', 'data', 'Homework2.ipynb']\n"
     ]
    }
   ],
   "source": [
    "import sys\n",
    "# print(sys.executable)\n",
    "!pip install torch torchvision torchaudio\n",
    "\n",
    "import os\n",
    "import torch\n",
    "import torch.nn as nn\n",
    "import torch.optim as optim\n",
    "import torch.nn.functional as F\n",
    "from torch.utils.data import DataLoader, Dataset\n",
    "import pickle\n",
    "import numpy as np\n",
    "import matplotlib.pyplot as plt\n",
    "# from google.colab import drive\n",
    "from tqdm import tqdm\n",
    "\n",
    "running_in_colab = 'google.colab' in str(get_ipython())\n",
    "\n",
    "if running_in_colab == True:\n",
    "    drive.mount('/content/gdrive/')\n",
    "    GOOGLE_DRIVE_PATH_AFTER_GDRIVE = '#####YOUR PATH HERE####### '\n",
    "    GOOGLE_DRIVE_PATH = os.path.join('gdrive', 'MyDrive', GOOGLE_DRIVE_PATH_AFTER_GDRIVE)\n",
    "    os.chdir(os.path.join('/content',GOOGLE_DRIVE_PATH))\n",
    "else:\n",
    "    GOOGLE_DRIVE_PATH = os.path.join('C:\\\\Users\\\\sarah\\\\OneDrive\\\\Desktop\\\\rob599-3D_perception\\\\point_clouds')\n",
    "    os.chdir(os.path.join('/content',GOOGLE_DRIVE_PATH))\n",
    "\n",
    "print(GOOGLE_DRIVE_PATH)\n",
    "print(os.listdir(GOOGLE_DRIVE_PATH))"
   ]
  },
  {
   "cell_type": "markdown",
   "metadata": {
    "id": "l_jK986WKQ81"
   },
   "source": [
    "# Instructions:\n",
    "Download the data from this [link](https://colab.research.google.com/drive/16Q3M_H6L1l_y2xu2MQP6icj6iN75zu18?usp=sharing). Unzip and upload it to your google drive in a folder called ```Homework2```. Make sure all files are stored in a folder called ```data``` inside the folder ```Homework2```. Copy the path after ```gdrive/``` to folder ```Homework2``` and paste it in the space above."
   ]
  },
  {
   "cell_type": "markdown",
   "metadata": {
    "id": "-V6b30NRiayH"
   },
   "source": [
    "## Q1a. Getting a point cloud from a Depth image\n",
    "\n",
    "You are given a rgb image, a depth image and a mask. Your task is to generate point cloud data from the given depth image and the corresponding colour from the RGB image. Recall we used projection equations to project 3D points to a 2D plane. Here, given depth, we need to reproject the points back onto a 3D plane. You are also given the camera data (focal length and camera center). Use the data from file ```generate_point_cloud.npz```\n",
    "\n",
    "```CORRECTION: The pricipal points are not given in the file. Here are the values for the principal point: 0.4224, -0.0300```\n",
    "\n",
    "![](https://drive.google.com/uc?export=view&id=1Dng54OFGump4H5-m7BLpgoL3ikMLa7aP)\n"
   ]
  },
  {
   "cell_type": "code",
   "execution_count": 5,
   "metadata": {
    "id": "j4X2QsWrlEvU"
   },
   "outputs": [],
   "source": [
    "def generate_point_clouds(rgb_image, depth_image, mask, camera_data):\n",
    "    \"\"\"\n",
    "    Generate a 3D point cloud from a given RGB image, depth image, and mask using camera data.\n",
    "\n",
    "    Args:\n",
    "        rgb_image (numpy.ndarray): RGB image as a NumPy array.\n",
    "        depth_image (numpy.ndarray): Depth image as a NumPy array.\n",
    "        mask (numpy.ndarray): Binary mask indicating valid pixels in the images.\n",
    "        camera_data (dict): Camera parameters including focal length and camera center.\n",
    "\n",
    "    Returns:\n",
    "        point_cloud (numpy.ndarray): 3D point cloud represented as a NumPy array of shape (N, 3),\n",
    "            where N is the number of valid points.\n",
    "        rgb (numpy.ndarray): RGB color values corresponding to the 3D points, represented as a\n",
    "            NumPy array of shape (N, 3), where N is the number of valid points.\n",
    "    \"\"\"\n",
    "    focal_length = camera_data[\"focal_length\"]\n",
    "    print('focal', np.shape(focal_length))\n",
    "    print(focal_length[0, 0])\n",
    "    camera_center = camera_data[\"camera_center\"]\n",
    "    print('size rgb', np.shape(rgb_image))\n",
    "    print('size depth', np.shape(depth_image))\n",
    "    print('size mask', np.shape(mask))\n",
    "\n",
    "    height, width = np.shape(depth_image)\n",
    "    num_pixels = height * width\n",
    "    N = num_pixels - np.sum(mask == 0)\n",
    "    point_cloud = np.zeros((N, 3))\n",
    "    rgb = np.zeros((N, 3))\n",
    "\n",
    "    rgb_image = rgb_image.reshape((num_pixels, 3))\n",
    "    depth_image = depth_image.reshape((num_pixels))\n",
    "    mask = mask.reshape((num_pixels))\n",
    "    print('size rgb', np.shape(rgb_image))\n",
    "    print('size depth', np.shape(depth_image))\n",
    "    print('size mask', np.shape(mask))\n",
    "\n",
    "    # projection matrix\n",
    "    M = np.array([[focal_length[0, 0], 0, 0.4224], [0, focal_length[0, 1], -0.03], [0, 0, 1]]) @ \\\n",
    "        np.array([[1, 0, 0, 0], [0, 1, 0, 0], [0, 0, 1, 0]])\n",
    "    M_pinv = M.T @ np.inv(M @ M.T)\n",
    "\n",
    "    index = 0\n",
    "    for h in height:\n",
    "        for w in width:\n",
    "            if mask(i) != 0:\n",
    "                coord = M_pinv @ np.array([[w], [h], [1]])\n",
    "                point_cloud[index] = coord\n",
    "                rgb[index] = rgb[i]\n",
    "                index += 1\n",
    "    \n",
    "    # point_cloud = None\n",
    "    # rgb = None\n",
    "    return point_cloud, rgb"
   ]
  },
  {
   "cell_type": "markdown",
   "metadata": {
    "id": "U7K9dYYLmpPq"
   },
   "source": [
    "## Q1b. Generate Visualization\n",
    "\n",
    "Use the point clouds and rgb data obtained from Q1a and plot them to generate at least 3 different views of the object\n",
    "\n",
    "```Note: You will need to visualize a lot of point clouds in this assignment. It would help if you generalize this function for future tasks. Feel free to modify input args as needed.```"
   ]
  },
  {
   "cell_type": "code",
   "execution_count": 7,
   "metadata": {
    "id": "Hc8w76iUmnqp"
   },
   "outputs": [],
   "source": [
    "def visualizing_point_clouds(point_cloud,rgb):\n",
    "    fig = plt.figure()\n",
    "    ax = fig.add_subplot(projection='3d')\n",
    "    ax.scatter(point_cloud[:, 0], point_cloud[:, 1], point_cloud[:, 2], color='tab:blue', alpha=1)\n",
    "    ax.set_xlabel('X Axis')\n",
    "    ax.set_ylabel('Y Axis')\n",
    "    ax.set_zlabel('Z Axis')\n",
    "    plt.show()\n",
    "    return None"
   ]
  },
  {
   "cell_type": "markdown",
   "metadata": {
    "id": "jjiC-DiJwa5a"
   },
   "source": [
    "Write a main function to load data and use the functions you defined above to produce the required output:"
   ]
  },
  {
   "cell_type": "code",
   "execution_count": 1,
   "metadata": {
    "id": "jtugtmhawaJ9"
   },
   "outputs": [
    {
     "ename": "NameError",
     "evalue": "name 'np' is not defined",
     "output_type": "error",
     "traceback": [
      "\u001b[1;31m---------------------------------------------------------------------------\u001b[0m",
      "\u001b[1;31mNameError\u001b[0m                                 Traceback (most recent call last)",
      "Cell \u001b[1;32mIn[1], line 2\u001b[0m\n\u001b[0;32m      1\u001b[0m \u001b[38;5;28;01mif\u001b[39;00m \u001b[38;5;18m__name__\u001b[39m \u001b[38;5;241m==\u001b[39m \u001b[38;5;124m\"\u001b[39m\u001b[38;5;124m__main__\u001b[39m\u001b[38;5;124m\"\u001b[39m:\n\u001b[1;32m----> 2\u001b[0m     data \u001b[38;5;241m=\u001b[39m np\u001b[38;5;241m.\u001b[39mload(\u001b[38;5;124m\"\u001b[39m\u001b[38;5;124mdata/generate_point_cloud.npz\u001b[39m\u001b[38;5;124m\"\u001b[39m)\n\u001b[0;32m      3\u001b[0m     \u001b[38;5;28mprint\u001b[39m(data\u001b[38;5;241m.\u001b[39mkeys())\n\u001b[0;32m      5\u001b[0m     rgb_image \u001b[38;5;241m=\u001b[39m data[\u001b[38;5;124m\"\u001b[39m\u001b[38;5;124mrgb\u001b[39m\u001b[38;5;124m\"\u001b[39m]\n",
      "\u001b[1;31mNameError\u001b[0m: name 'np' is not defined"
     ]
    }
   ],
   "source": [
    "if __name__ == \"__main__\":\n",
    "    data = np.load(\"data/generate_point_cloud.npz\")\n",
    "    print(data.keys())\n",
    "    \n",
    "    rgb_image = data[\"rgb\"]\n",
    "    depth_image = data[\"depth\"]\n",
    "    mask = data[\"mask\"]\n",
    "    camera_data = {\"focal_length\": data[\"focal_length\"], \"camera_center\": data[\"camera_center\"]}\n",
    "\n",
    "    point_cloud, rgb = generate_point_clouds(rgb_image, depth_image, mask, camera_data)\n",
    "    visualize_point_clouds(point_cloud, rgb)"
   ]
  },
  {
   "cell_type": "markdown",
   "metadata": {
    "id": "NFiD1CLGnqfs"
   },
   "source": [
    "# Iterative Closest Point Algorithm\n",
    "\n",
    "When working with real world point cloud data, one often encounters 2 sets points that are unaligned but represent the same scene or object. These point clouds might be slightly rotated, translated, or even have non-uniform scaling due to various factors such as sensor noise, calibration errors, or deformations in the object itself. In such cases, accurately aligning these point clouds becomes essential to make meaningful comparisons or perform further analysis. The Iterative Closest Point (ICP) algorithm is a powerful tool that addresses this challenge, providing a systematic and efficient way to find the optimal transformation that aligns two point clouds or shapes.\n",
    "\n",
    "In this section, we are going to develop an in-depth understanding of the ICP algorithm by implementing it and computing a rigid transformation between two point clouds.\n",
    "\n",
    "Pseudo Code:\n",
    "\n",
    "![](https://drive.google.com/uc?export=view&id=1XfswHyZWBLb06chYDQRc6Ze6Oiwkxmpd)\n",
    "\n",
    "\n",
    "\n",
    "\n",
    "\n",
    "\n",
    "## Q2a. Estimate Correspondences between the two point clouds.\n",
    "You are given two point clouds X and Y, an initial guess of transformation T and rotation R and a threshold for maximum distance between two points.\n",
    "Return a list of estimated point correspondences. Procedure to follow is given in the pseudocode."
   ]
  },
  {
   "cell_type": "code",
   "execution_count": null,
   "metadata": {
    "id": "0G-kSr_Ylkdu"
   },
   "outputs": [],
   "source": [
    "def estimate_correspondences(X, Y, t, R, threshold):\n",
    "    \"\"\"\n",
    "    Estimate Correspondences between two point clouds.\n",
    "\n",
    "    This function takes two point clouds, X and Y, along with an initial guess of\n",
    "    translation 't' and rotation 'R', and a threshold value for the maximum distance\n",
    "    between two points to consider them as correspondences.\n",
    "\n",
    "    Parameters:\n",
    "    X (numpy.ndarray): The first point cloud represented as an N x 3 numpy array,\n",
    "                       where N is the number of points.\n",
    "    Y (numpy.ndarray): The second point cloud represented as an M x 3 numpy array,\n",
    "                       where M is the number of points.\n",
    "    t (numpy.ndarray): The initial guess for translation, a 1 x 3 numpy array.\n",
    "    R (numpy.ndarray): The initial guess for rotation, a 3 x 3 numpy array.\n",
    "    threshold (float): The maximum distance between two points to consider them as\n",
    "                       correspondences.\n",
    "\n",
    "    Returns:\n",
    "    correspondences (numpy.ndarray): A numpy array of estimated point correspondences, where each\n",
    "                            correspondence is [x, y], where 'x' is the index of point\n",
    "                            from point cloud X, and 'y' is is the index of a point from point cloud Y.\n",
    "    \"\"\"\n",
    "    correspondences = None\n",
    "    #########################################\n",
    "    #############YOUR CODE HERE##############\n",
    "    #########################################\n",
    "\n",
    "\n",
    "    ##########################################\n",
    "    return correspondences"
   ]
  },
  {
   "cell_type": "markdown",
   "metadata": {
    "id": "sB6GiF48j88J"
   },
   "source": [
    "## Q2b. Estimating Optimal Rigid Transform\n",
    "\n",
    "Now that we have computed the correspondences, it is time to compute the transform between them. The algorithm to accomplish this task is mentioned below:\n",
    "![](https://drive.google.com/uc?export=view&id=14JANZvk4sO4CWNqQNhKJx6PT7l7hpKM3)\n",
    "\n"
   ]
  },
  {
   "cell_type": "code",
   "execution_count": null,
   "metadata": {
    "id": "nh2bGSeUj8PU"
   },
   "outputs": [],
   "source": [
    "def compute_rigid_transformation(X,Y,correspondences):\n",
    "    \"\"\"\n",
    "    Estimate the optimal rigid transformation between two point clouds.\n",
    "\n",
    "    Given two point clouds X and Y, along with a list of estimated point correspondences,\n",
    "    this function calculates the optimal rotation and translation that best aligns\n",
    "    point cloud X with point cloud Y.\n",
    "\n",
    "    Parameters:\n",
    "    X (numpy.ndarray): The first point cloud represented as an N x 3 numpy array,\n",
    "                       where N is the number of points.\n",
    "    Y (numpy.ndarray): The second point cloud represented as an M x 3 numpy array,\n",
    "                       where M is the number of points.\n",
    "    correspondences (numpy.ndarray): A numpy array of estimated point correspondences, where each\n",
    "                            correspondence is [x, y], where 'x' is the index of point\n",
    "                            from point cloud X, and 'y' is is the index of a point from point cloud Y.\n",
    "\n",
    "    Returns:\n",
    "    rotation (numpy.ndarray): The estimated rotation matrix (3x3) that best aligns\n",
    "                             point cloud X with point cloud Y.\n",
    "    translation (numpy.ndarray): The estimated translation vector (1x3) that best\n",
    "                                aligns point cloud X with point cloud Y.\n",
    "    \"\"\"\n",
    "    rotation,transformation = None\n",
    "    #########################################\n",
    "    #############YOUR CODE HERE##############\n",
    "    #########################################\n",
    "\n",
    "\n",
    "    ##########################################\n",
    "    return rotation, transformation"
   ]
  },
  {
   "cell_type": "markdown",
   "metadata": {
    "id": "IWo0uG5Fk-GA"
   },
   "source": [
    "## Q2c. Stitching Everything Together\n",
    "\n",
    "i. Use the functions you defined in the previous questions and implement the ICP algorithm.\n",
    "\n",
    "ii. Test the algorithm by using the point clouds in the files ```data/point_cloud_X.txt``` and ```data/point_cloud_Y.txt```. Set initial estimate of ```t``` as 0, ```R``` as identity, ```dmax``` as 0.25 and run the code for 30 iterations\n",
    "\n",
    "iii. Report the RMSE error computed from the following equation:\n",
    "\n",
    "![](https://drive.google.com/uc?export=view&id=1cVLvZwm9T1Rj9CKHzQYdZDaokoWqup0O)\n",
    "\n",
    "\n",
    "\n",
    "\n",
    "\n",
    "\n",
    "\n"
   ]
  },
  {
   "cell_type": "code",
   "execution_count": null,
   "metadata": {
    "id": "TqEBYOkEk9y2"
   },
   "outputs": [],
   "source": [
    "def ICP_algorithm(X , Y , t, R, threshold, max_iter):\n",
    "    #########################################\n",
    "    #############YOUR CODE HERE##############\n",
    "    #########################################\n",
    "    correspondences = None\n",
    "\n",
    "    ##########################################\n",
    "    return t,R,correspondences\n",
    "\n",
    "\n",
    "def RMSE_error(X, Y,t,R):\n",
    "    RMSE = None\n",
    "\n",
    "    return RMSE\n",
    "\n",
    "\n",
    "\n",
    "\n",
    "#---- Write your 'main' function to load data and use the ICP algorithm -------#\n",
    "\n",
    "\n",
    "\n",
    "\n",
    "\n"
   ]
  },
  {
   "cell_type": "markdown",
   "metadata": {
    "id": "ZDEY30spv_WE"
   },
   "source": [
    "## Q2d. Visualizing the point clouds\n",
    "Write a function to visualize the two point clouds before and after transformation to witness the might of the ICP algorithm. You are free to use the function you wrote previously for Q1"
   ]
  },
  {
   "cell_type": "code",
   "execution_count": null,
   "metadata": {
    "id": "V9adJ457v_AD"
   },
   "outputs": [],
   "source": []
  },
  {
   "cell_type": "markdown",
   "metadata": {
    "id": "tnSUrvF1n25r"
   },
   "source": [
    "# Pointnets\n",
    "\n",
    "PointNet is a groundbreaking neural network architecture tailored for the classification and segmentation of point cloud data. Introduced in the seminal paper \"PointNet: Deep Learning on Point Sets for 3D Classification and Segmentation\" by Charles R. Qi, Hao Su, Kaichun Mo, and Leonidas J. Guibas, PointNet represents a significant advancement in the field of 3D deep learning.\n",
    "\n",
    "Processing point clouds poses unique challenges compared to traditional 2D image data. Point clouds are unordered, meaning that the order of the points within the cloud does not inherently convey information. Furthermore, point clouds may have varying numbers of points, making it challenging to apply standard convolutional neural networks (CNNs) designed for regular grids.\n",
    "\n",
    "\n",
    "In the next few sections, we are going to implement the classification and segmentation network."
   ]
  },
  {
   "cell_type": "markdown",
   "metadata": {
    "id": "g4_-iSQEw1RV"
   },
   "source": [
    "## Dataloader"
   ]
  },
  {
   "cell_type": "code",
   "execution_count": null,
   "metadata": {
    "id": "8Lbblsprwepk"
   },
   "outputs": [],
   "source": [
    "class cocoDataset(Dataset):\n",
    "    def __init__(self, path, train=True):\n",
    "        self.path = path\n",
    "        if train:\n",
    "            self.data_path = self.path + \"/train_data.npy\"\n",
    "            self.label_path = self.path + \"/train_labels.npy\"\n",
    "        else:\n",
    "            self.data_path = self.path + \"/test_data.npy\"\n",
    "            self.label_path = self.path + \"/test_labels.npy\"\n",
    "        self.data = torch.from_numpy(np.load(self.data_path))\n",
    "        self.label = torch.from_numpy(np.load(self.label_path)).to(torch.long)\n",
    "\n",
    "    def __len__(self):\n",
    "        return self.data.size()[0]\n",
    "\n",
    "    def __getitem__(self, idx):\n",
    "        return self.data[idx], self.label[idx]\n",
    "\n",
    "def get_data_loader(path, batch_size, train=True):\n",
    "    \"\"\"\n",
    "    Creates training and test data loaders\n",
    "    \"\"\"\n",
    "    dataset = cocoDataset(path, train)\n",
    "    dataloader = DataLoader(dataset=dataset, batch_size=batch_size, shuffle=train, num_workers=1)\n",
    "\n",
    "\n",
    "    return dataloader"
   ]
  },
  {
   "cell_type": "markdown",
   "metadata": {
    "id": "7oEeoOK5s5QB"
   },
   "source": [
    "# Q3. Classification\n",
    "\n",
    "In this question, you are given point clouds of objects corresponding to 3 different classes: Vase, Chair and Lamp . You are to implement the pointnet neural network and train it to differentiate between different objects.\n",
    "\n",
    "Note: Use of a GPU is recommended. You can switch to a GPU runtime by going to ```Runtime>Change Runtime Type```\n",
    "\n",
    "\n",
    "## Q3a. Implementation of Pointnet Architecture.\n",
    "\n",
    "Refer to the Diagram below to implement the structure of Pointnet for classification.\n",
    "\n",
    "```Note1: The values in brackets correspond to layers. After every layer there is a 1D Batch normalization layer and a Relu activation layer. Refer to pytorch documentation on how to implement these layers.```\n",
    "\n",
    "```Note2: Linear layers can also be implemented as 1D Convolutions with Kernel size 1```\n",
    "\n",
    "```Note3: Remember to use a softmax layer to get the output scores```\n",
    "\n",
    "![](https://drive.google.com/uc?export=view&id=19k9E94pHVrv8QyNoedNIUi2D-tnDi95t)\n",
    "\n",
    "Source: [PointNet: Deep Learning on Point Sets for 3D Classification and Segmentation](https://doi.org/10.48550/arXiv.1612.00593)"
   ]
  },
  {
   "cell_type": "code",
   "execution_count": null,
   "metadata": {
    "id": "IJTkuRxdu447"
   },
   "outputs": [],
   "source": [
    "class ClassificationModel(nn.Module):\n",
    "    def __init__(self, num_classes = 3, num_points = 1000):\n",
    "        super(ClassificationModel,self).__init__()\n",
    "        #########################################\n",
    "        #############YOUR CODE HERE##############\n",
    "        #########################################\n",
    "        pass\n",
    "\n",
    "        ##########################################\n",
    "\n",
    "\n",
    "    def forward(self,points):\n",
    "        output = None\n",
    "        #########################################\n",
    "        #############YOUR CODE HERE##############\n",
    "        #########################################\n",
    "\n",
    "        ##########################################\n",
    "        return output"
   ]
  },
  {
   "cell_type": "markdown",
   "metadata": {
    "id": "g5CRW2DLxRqq"
   },
   "source": [
    "## Q3b. Training the network\n",
    "\n",
    "To train the network the following steps need to be followed:\n",
    "\n",
    "\n",
    "i. Check and convert the dimensions into proper order. Recall, the model needs the data to be in ```B x C x N``` format where B is the batch, C is the channels and N is the number of points\n",
    "\n",
    "ii. The dataset contains 10000 points per point clouds. To ease the computation, we are only using 1000 points per point cloud. Slice the data so that you are only using 1000 points.\n",
    "\n",
    "iii. Compute Forward pass\n",
    "\n",
    "iv. Calculate the Loss. We are using the CrossEntropyLoss for classification.\n",
    "\n",
    "v. Perform back propogation and optimize"
   ]
  },
  {
   "cell_type": "code",
   "execution_count": null,
   "metadata": {
    "id": "m8lllSbgsKYt"
   },
   "outputs": [],
   "source": [
    "def train(train_dataloader, model, opt, epoch, device, task, num_seg_classes = 6):\n",
    "    model.train()\n",
    "    step = epoch*len(train_dataloader)\n",
    "    epoch_loss = 0\n",
    "\n",
    "    for i, batch in enumerate(train_dataloader):\n",
    "        point_clouds, labels = batch\n",
    "        point_clouds = point_clouds.to(device)\n",
    "        labels = labels.to(device).to(torch.long)\n",
    "        #########################################\n",
    "        #############YOUR CODE HERE##############\n",
    "        #########################################\n",
    "\n",
    "        # Compute Forward pass\n",
    "\n",
    "        predictions = None\n",
    "\n",
    "\n",
    "        ##########################################\n",
    "\n",
    "\n",
    "\n",
    "        #########################################\n",
    "        #############YOUR CODE HERE##############\n",
    "        #########################################\n",
    "\n",
    "        # Initialize & Calculate Loss and perform back propogation\n",
    "\n",
    "        loss = None\n",
    "\n",
    "\n",
    "        ##########################################\n",
    "        epoch_loss += loss\n",
    "\n",
    "    return epoch_loss\n",
    "\n",
    "\n"
   ]
  },
  {
   "cell_type": "markdown",
   "metadata": {
    "id": "kceHIVKv027w"
   },
   "source": [
    "## Q3c. Testing the Network\n",
    "\n",
    "i. Perform the same steps as Q3b to prepare the data for the network.\n",
    "\n",
    "ii. Get the predictions from your network. Remember to not compute gradients or the loss!\n",
    "\n",
    "iii. Calculate the accuracy of the model by comparing how many predictions correctly match the labels and dividing the number by total number of datapoints\n",
    "\n",
    "\n",
    "\n",
    "\n",
    "\n",
    "\n"
   ]
  },
  {
   "cell_type": "code",
   "execution_count": null,
   "metadata": {
    "id": "mRR6btHQsJpN"
   },
   "outputs": [],
   "source": [
    "def test(test_dataloader, model, epoch, device):\n",
    "\n",
    "    model.eval()\n",
    "\n",
    "    # Evaluation in Classification Task\n",
    "    correct_obj = 0\n",
    "    num_obj = 0\n",
    "    for batch in test_dataloader:\n",
    "        point_clouds, labels = batch\n",
    "        point_clouds = point_clouds.to(device)\n",
    "        labels = labels.to(device).to(torch.long)\n",
    "        #########################################\n",
    "        #############YOUR CODE HERE##############\n",
    "        #########################################\n",
    "\n",
    "\n",
    "\n",
    "\n",
    "\n",
    "\n",
    "        #########################################\n",
    "    # Compute Accuracy of Test Dataset\n",
    "    accuracy = correct_obj / num_obj\n",
    "\n",
    "    return accuracy"
   ]
  },
  {
   "cell_type": "markdown",
   "metadata": {
    "id": "IN6fwcFYzUEk"
   },
   "source": [
    "## Running the Model"
   ]
  },
  {
   "cell_type": "code",
   "execution_count": null,
   "metadata": {
    "id": "7ziX5oZuz-R5"
   },
   "outputs": [],
   "source": [
    "NUM_CLASSES = 3\n",
    "learning_rate = 0.001\n",
    "path = \"data/cls\"\n",
    "batch_size = 32\n",
    "num_epochs = 150\n",
    "model_save_path = os.path.join(os. getcwd(), 'model/best_model.pt')\n",
    "device = torch.device(\"cuda\" if torch.cuda.is_available() else 'cpu')\n",
    "model = classification_model(NUM_CLASSES).to(device)\n",
    "opt = optim.Adam(model.parameters(), learning_rate, betas=(0.9, 0.999))\n",
    "train_dataloader = get_data_loader(path,batch_size, True)\n",
    "test_dataloader = get_data_loader(path,batch_size, False)\n",
    "print(\"++++++ SUCCESSFULLY LOADED DATA ++++++\")\n",
    "\n",
    "best_accuracy = -1\n",
    "\n",
    "for epoch in tqdm(range(num_epochs)):\n",
    "    train_epoch_loss = train(train_dataloader, model, opt, epoch, device, \"cls\")\n",
    "\n",
    "    test_accuracy = test(test_dataloader, model, epoch, device, \"cls\")\n",
    "    print (\"epoch: {}   train loss: {:.4f}   test accuracy: {:.4f}\".format(epoch, train_epoch_loss, test_accuracy))\n",
    "\n",
    "    # if (test_accuracy > best_accuracy):\n",
    "    #     best_accuracy = test_accuracy\n",
    "        # torch.save(model.state_dict(), model_save_path)\n",
    "\n",
    "print(\"===============TRAINING COMPLETE===============\")"
   ]
  },
  {
   "cell_type": "markdown",
   "metadata": {
    "id": "yF37sDWL1sDR"
   },
   "source": [
    "## Q3d. Inference\n",
    "\n",
    "i. Visualize few point clouds that have been classified correctly\n",
    "\n",
    "ii. Visualize few point clouds that have been classfied incorrectly\n",
    "\n",
    "You can re-use functions defined previously"
   ]
  },
  {
   "cell_type": "code",
   "execution_count": null,
   "metadata": {
    "id": "h8yUun6D1q7v"
   },
   "outputs": [],
   "source": []
  },
  {
   "cell_type": "markdown",
   "metadata": {
    "id": "xdKzZ20Df1Wg"
   },
   "source": [
    "# Q4. Segmentation\n",
    "\n",
    "In this question, you are given a point cloud of different types of chairs with labels or classes for different parts of the chair: back rest, arm rest, seat etc. Your task is to create a PointNet segmentation network and train it to perform part segmentation.\n",
    "\n",
    "Note: Use of a GPU is recommended. You can switch to a GPU runtime by going to ```Runtime>Change Runtime Type```"
   ]
  },
  {
   "cell_type": "markdown",
   "metadata": {
    "id": "HFV-XbimjVVz"
   },
   "source": [
    "## Q4a. Implementation of the Pointnet architecture for segmentation\n",
    "\n",
    "The architecture of pointnet for segmentation is given below:\n",
    "\n",
    "![](https://drive.google.com/uc?export=view&id=1gATiXB-CD6LmetMjylBbg230CoowyVud)\n",
    "Source: [PointNet: Deep Learning on Point Sets for 3D Classification and Segmentation](https://doi.org/10.48550/arXiv.1612.00593)\n",
    "\n",
    "There are a total of 6 classes that the points can be segmented into.\n",
    "\n",
    "For segmentation, we store the local features extracted after the first set of MLP layers and concatenate each point in the local feature tensor with the global feature vector, making the input to the segmentation network ```n x (64+ 1024) =  nx1088```\n",
    "\n",
    "```Note1: The values in brackets correspond to layers. After every layer there is a 1D Batch normalization layer and a Relu activation layer. Refer to pytorch documentation on how to implement these layers.```\n",
    "\n",
    "```Note2: Your implementation should not contain the input transform and the feature transform```\n",
    "\n",
    "```Note3: MLP can also be implemented as 1D Convolutions with Kernel size 1```\n",
    "\n",
    "\n",
    "\n",
    "\n"
   ]
  },
  {
   "cell_type": "code",
   "execution_count": null,
   "metadata": {
    "id": "-KRyQWARjU9L"
   },
   "outputs": [],
   "source": [
    "class SegmentationNetwork(nn.Module):\n",
    "    def __init__(self, num_points = 2000, num_seg_classes = 6):\n",
    "        super(SegmentationNetwork,self).__init__()\n",
    "        #########################################\n",
    "        #############YOUR CODE HERE##############\n",
    "        #########################################\n",
    "        pass\n",
    "\n",
    "        ##########################################\n",
    "\n",
    "\n",
    "    def forward(self,points):\n",
    "        \"\"\"\n",
    "        Implement the forward pass\n",
    "        Parameters:\n",
    "        points (torch.Tensor): Tensor of shape (BxCxN) containing point cloud data\n",
    "        where B is the batch size, C is number of channels, N is number of points in the point cloud\n",
    "\n",
    "        Returns:\n",
    "        output (torch.Tensor): Tensor of shape (B x num_seg_classes x N)\n",
    "        \"\"\"\n",
    "        output = None\n",
    "        #########################################\n",
    "        #############YOUR CODE HERE##############\n",
    "        #########################################\n",
    "\n",
    "        ##########################################\n",
    "        return output"
   ]
  },
  {
   "cell_type": "markdown",
   "metadata": {
    "id": "1Iu4Y7kUlk4z"
   },
   "source": [
    "## Q4b. Implementing the loss function\n",
    "\n",
    "In this case, we need a special loss function because our data is not uniformly distributed. To illustrate it further run the following block:"
   ]
  },
  {
   "cell_type": "code",
   "execution_count": null,
   "metadata": {
    "colab": {
     "base_uri": "https://localhost:8080/",
     "height": 469
    },
    "id": "isg_8cKtlkd4",
    "outputId": "8d5110cc-3c14-4391-fd04-ab096a8a8ac2"
   },
   "outputs": [
    {
     "data": {
      "image/png": "[encoded data removed]",
      "text/plain": [
       "<Figure size 640x480 with 1 Axes>"
      ]
     },
     "metadata": {},
     "output_type": "display_data"
    }
   ],
   "source": [
    "## RUN this block for the plot\n",
    "CATEGORIES = {'1': 0, '2': 1, '3': 2, '4': 3, '5': 4, '6': 5}\n",
    "COLOR_MAP = {\n",
    "    0  : (47, 79, 79),\n",
    "    1  : (139, 69, 19),\n",
    "    2  : (34, 139, 34),\n",
    "    3  : (75, 0, 130),\n",
    "    4  : (255, 0, 0),\n",
    "    5  : (255, 255, 0)}\n",
    "v_map_colors = np.vectorize(lambda x : COLOR_MAP[x])\n",
    "NUM_CLASSES = len(CATEGORIES)\n",
    "total_train_targets = []\n",
    "train_dataloader = get_data_loader(\"data/seg\",32, True)\n",
    "for (_, targets) in train_dataloader:\n",
    "    total_train_targets += targets.reshape(-1).numpy().tolist()\n",
    "\n",
    "total_train_targets = np.array(total_train_targets)\n",
    "class_bins = np.bincount(total_train_targets)\n",
    "\n",
    "plt.bar(list(CATEGORIES.keys()), class_bins,\n",
    "             color=[np.array(val)/255. for val in list(COLOR_MAP.values())],\n",
    "             edgecolor='black')\n",
    "plt.xticks(list(CATEGORIES.keys()), list(CATEGORIES.keys()), size=12, rotation=90)\n",
    "plt.ylabel('Counts', size=12)\n",
    "plt.title('Frequency of Each Category', size=14, pad=20);"
   ]
  },
  {
   "cell_type": "markdown",
   "metadata": {
    "id": "PU50B40Hq7ap"
   },
   "source": [
    "We observe a significant imbalance in the dataset. Penalizing the network equally for misclassifying categories of varying frequencies wouldn't be logical. If we penalize high-frequency categories the same as low-frequency ones, the model might excel at capturing common patterns but struggle with rare features.\n",
    "\n",
    "For this reason, we define a few weights for the loss function that correspond to the different classes. These are learnable parameters and we are initializing them manually as per the visualization. You are free to experiment with them as you please."
   ]
  },
  {
   "cell_type": "code",
   "execution_count": null,
   "metadata": {
    "id": "VaUHuzkmq66v"
   },
   "outputs": [],
   "source": [
    "alpha = np.ones(6)\n",
    "alpha[5] *= 0.25\n",
    "alpha[2] *= 0.35\n",
    "alpha[4] *= 0.45\n",
    "alpha[3] *= 0.5"
   ]
  },
  {
   "cell_type": "markdown",
   "metadata": {
    "id": "aWzvFL-btXKS"
   },
   "source": [
    "Initialize the cross entropy loss with the weights and perform the forward pass. Refer to the pytorch documentation on Cross Entropy loss for  more information."
   ]
  },
  {
   "cell_type": "code",
   "execution_count": null,
   "metadata": {
    "id": "LDk-XYKdq6Gy"
   },
   "outputs": [],
   "source": [
    "class PointNetSegLoss(nn.Module):\n",
    "    def __init__(self, alpha):\n",
    "        super(PointNetSegLoss, self).__init__()\n",
    "        self.alpha = alpha\n",
    "        #########################################\n",
    "        #############YOUR CODE HERE##############\n",
    "        #########################################\n",
    "\n",
    "        ##########################################\n",
    "\n",
    "    def forward(self, predictions, targets):\n",
    "        loss = None\n",
    "        #########################################\n",
    "        #############YOUR CODE HERE##############\n",
    "        #########################################\n",
    "\n",
    "        ##########################################\n",
    "        return loss"
   ]
  },
  {
   "cell_type": "markdown",
   "metadata": {
    "id": "PwoP1fGdlZrI"
   },
   "source": [
    "## Q4c. Training the Network\n",
    "\n",
    "To train the network the following steps need to be followed:\n",
    "\n",
    "i. Check and convert the dimensions into proper order. Recall, the model needs the data to be in ```B x C x N``` format where B is the batch, C is the channels and N is the number of points\n",
    "\n",
    "ii. The dataset contains 10000 points per point clouds. To reduce computation, we are only using 2000 points per point cloud. Slice the data so that you are only using 2000 points.\n",
    "\n",
    "iii. Compute Forward pass\n",
    "\n",
    "iv. Calculate the Loss. Here the ```PointNetSegLoss``` is passed as the argument ```criterion``` in the function\n",
    "\n",
    "v. Perform back propogation and optimize"
   ]
  },
  {
   "cell_type": "code",
   "execution_count": null,
   "metadata": {
    "id": "0_2MO92hf05_"
   },
   "outputs": [],
   "source": [
    "def train_segmentation_model(train_dataloader, model, opt, epoch, device, criterion, num_seg_classes = 6):\n",
    "    model.train()\n",
    "\n",
    "    step = epoch*len(train_dataloader)\n",
    "    epoch_loss = 0\n",
    "\n",
    "    for i, batch in enumerate(train_dataloader):\n",
    "        point_clouds, labels = batch\n",
    "        point_clouds = point_clouds.to(device)\n",
    "        labels = labels.to(device).to(torch.long)\n",
    "        #########################################\n",
    "        #############YOUR CODE HERE##############\n",
    "        #########################################\n",
    "\n",
    "        # Compute Forward pass\n",
    "\n",
    "        predictions = None\n",
    "\n",
    "\n",
    "        ##########################################\n",
    "\n",
    "\n",
    "\n",
    "\n",
    "        #########################################\n",
    "        #############YOUR CODE HERE##############\n",
    "        #########################################\n",
    "\n",
    "        # Initialize & Calculate Loss and perform back propogation\n",
    "\n",
    "        loss = None\n",
    "\n",
    "\n",
    "        ##########################################\n",
    "        epoch_loss += loss\n",
    "\n",
    "    return epoch_loss"
   ]
  },
  {
   "cell_type": "markdown",
   "metadata": {
    "id": "Q1FZp6_exHsL"
   },
   "source": [
    "## Q4d. Testing the Network\n",
    "\n",
    "i. Perform the same steps as Q4c to prepare the data for the network.\n",
    "\n",
    "ii. Get the predictions from your network. Remember to not compute gradients or the loss!\n",
    "\n",
    "iii. Get the prediction with highest probability from the output by using ```torch.softmax```\n",
    "\n",
    "iv. Calculate the accuracy of the model by comparing how many predictions correctly match the labels and dividing the number by total number of datapoints"
   ]
  },
  {
   "cell_type": "code",
   "execution_count": null,
   "metadata": {
    "id": "y_nL-Gk-xX33"
   },
   "outputs": [],
   "source": [
    "def test_segmentation_model(test_dataloader, model, epoch, device):\n",
    "\n",
    "    model.eval()\n",
    "    correct_point = 0\n",
    "    num_point = 0\n",
    "    for batch in test_dataloader:\n",
    "        point_clouds, labels = batch\n",
    "        point_clouds = point_clouds.to(device)\n",
    "        labels = labels.to(device).to(torch.long)\n",
    "        #########################################\n",
    "        #############YOUR CODE HERE##############\n",
    "        #########################################\n",
    "\n",
    "        # Compute Forward pass and evaluate the model\n",
    "\n",
    "        predictions = None\n",
    "\n",
    "\n",
    "        ##########################################\n",
    "    # Compute Accuracy of Test Dataset\n",
    "    accuracy = correct_point / num_point\n",
    "\n",
    "    return accuracy"
   ]
  },
  {
   "cell_type": "markdown",
   "metadata": {
    "id": "2_8lFARNzYZr"
   },
   "source": [
    "## Running the Model"
   ]
  },
  {
   "cell_type": "code",
   "execution_count": null,
   "metadata": {
    "id": "Ux0SvjWGzYLc"
   },
   "outputs": [],
   "source": [
    "NUM_CLASSES = 6\n",
    "NUM_TRAIN_POINTS = 2000\n",
    "learning_rate = 0.001\n",
    "path = \"data/seg\"\n",
    "batch_size = 32\n",
    "num_epochs = 200\n",
    "model = SegmentationNetwork(NUM_TRAIN_POINTS, NUM_CLASSES)\n",
    "model_save_path = os.path.join(os. getcwd(), 'model/best_seg_model.pt')\n",
    "device = torch.device(\"cuda\" if torch.cuda.is_available() else 'cpu')\n",
    "opt = optim.Adam(model.parameters(), learning_rate)\n",
    "train_dataloader = get_data_loader(path,batch_size, True)\n",
    "test_dataloader = get_data_loader(path,batch_size, False)\n",
    "\n",
    "\n",
    "alpha = np.ones(6)\n",
    "alpha[-1] *= 0.25\n",
    "alpha[2] *= 0.35\n",
    "alpha[4] *= 0.45\n",
    "alpha[3] *= 0.5\n",
    "\n",
    "criterion = PointNetSegLoss(alpha=alpha).to(device)\n",
    "\n",
    "model = model.to(device)\n",
    "print(\"++++++ SUCCESSFULLY LOADED DATA ++++++\")\n",
    "\n",
    "best_accuracy = -1\n",
    "\n",
    "for epoch in tqdm(range(num_epochs)):\n",
    "    train_epoch_loss = train_segmentation_model(train_dataloader, model, opt, epoch, device, criterion)\n",
    "\n",
    "    test_accuracy = test_segmentation_model(test_dataloader, model, epoch, device)\n",
    "    print (\"epoch: {}   train loss: {:.4f}   test accuracy: {:.4f}\".format(epoch, train_epoch_loss, test_accuracy))\n",
    "\n",
    "    if (test_accuracy > best_accuracy):\n",
    "        best_accuracy = test_accuracy\n",
    "        torch.save(model.state_dict(), model_save_path)\n",
    "\n",
    "print(\"===============TRAINING COMPLETE===============\")"
   ]
  },
  {
   "cell_type": "markdown",
   "metadata": {
    "id": "NNnE5C9z0tCT"
   },
   "source": [
    "## Q4e. Inference\n",
    "\n",
    "i. Visualize a few point clouds that have been segmented correctly. Make sure to use different colours for different classes\n",
    "\n",
    "ii. Visualize few point clouds that have been segmented incorrectly. Make sure to use different colours for different classes\n",
    "\n",
    "You can re-use functions defined previously"
   ]
  },
  {
   "cell_type": "code",
   "execution_count": null,
   "metadata": {
    "id": "LV29c2Fi0sl1"
   },
   "outputs": [],
   "source": []
  },
  {
   "cell_type": "markdown",
   "metadata": {
    "id": "qkR5z6h5Xktx"
   },
   "source": [
    "# Submission Instructions\n",
    "Run the entire notebook and make sure all outputs are visible. ```We will NOT run your code.```\n",
    "\n",
    "Rename the notebook as ```uniquename_assignment2.ipynb``` and submit the link of the notebook on canvas. Make sure to set proper access for your link so that anyone with the link can ```view``` your notebook\n"
   ]
  }
 ],
 "metadata": {
  "colab": {
   "provenance": []
  },
  "kernelspec": {
   "display_name": "Python [conda env:base] *",
   "language": "python",
   "name": "conda-base-py"
  },
  "language_info": {
   "codemirror_mode": {
    "name": "ipython",
    "version": 3
   },
   "file_extension": ".py",
   "mimetype": "text/x-python",
   "name": "python",
   "nbconvert_exporter": "python",
   "pygments_lexer": "ipython3",
   "version": "3.12.7"
  }
 },
 "nbformat": 4,
 "nbformat_minor": 4
}
